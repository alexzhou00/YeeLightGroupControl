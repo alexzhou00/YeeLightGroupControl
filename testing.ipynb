{
 "cells": [
  {
   "cell_type": "code",
   "execution_count": 1,
   "metadata": {},
   "outputs": [],
   "source": [
    "import yeelight as yl\n",
    "from yeelight import discover_bulbs\n",
    "import time\n",
    "from pynput import mouse, keyboard"
   ]
  },
  {
   "cell_type": "code",
   "execution_count": 9,
   "metadata": {},
   "outputs": [
    {
     "data": {
      "text/plain": [
       "mappingproxy({'_generate_next_value_': <function enum.Enum._generate_next_value_(name, start, count, last_values)>,\n",
       "              '__module__': 'pynput.keyboard._win32',\n",
       "              '__doc__': 'An enumeration.',\n",
       "              '_member_names_': ['alt',\n",
       "               'alt_l',\n",
       "               'alt_r',\n",
       "               'alt_gr',\n",
       "               'backspace',\n",
       "               'caps_lock',\n",
       "               'cmd',\n",
       "               'cmd_r',\n",
       "               'ctrl',\n",
       "               'ctrl_l',\n",
       "               'ctrl_r',\n",
       "               'delete',\n",
       "               'down',\n",
       "               'end',\n",
       "               'enter',\n",
       "               'esc',\n",
       "               'f1',\n",
       "               'f2',\n",
       "               'f3',\n",
       "               'f4',\n",
       "               'f5',\n",
       "               'f6',\n",
       "               'f7',\n",
       "               'f8',\n",
       "               'f9',\n",
       "               'f10',\n",
       "               'f11',\n",
       "               'f12',\n",
       "               'f13',\n",
       "               'f14',\n",
       "               'f15',\n",
       "               'f16',\n",
       "               'f17',\n",
       "               'f18',\n",
       "               'f19',\n",
       "               'f20',\n",
       "               'f21',\n",
       "               'f22',\n",
       "               'f23',\n",
       "               'f24',\n",
       "               'home',\n",
       "               'left',\n",
       "               'page_down',\n",
       "               'page_up',\n",
       "               'right',\n",
       "               'shift',\n",
       "               'shift_r',\n",
       "               'space',\n",
       "               'tab',\n",
       "               'up',\n",
       "               'media_play_pause',\n",
       "               'media_volume_mute',\n",
       "               'media_volume_down',\n",
       "               'media_volume_up',\n",
       "               'media_previous',\n",
       "               'media_next',\n",
       "               'insert',\n",
       "               'menu',\n",
       "               'num_lock',\n",
       "               'pause',\n",
       "               'print_screen',\n",
       "               'scroll_lock'],\n",
       "              '_member_map_': {'alt': <Key.alt: <18>>,\n",
       "               'alt_l': <Key.alt_l: <164>>,\n",
       "               'alt_r': <Key.alt_r: <165>>,\n",
       "               'alt_gr': <Key.alt_gr: <165>>,\n",
       "               'backspace': <Key.backspace: <8>>,\n",
       "               'caps_lock': <Key.caps_lock: <20>>,\n",
       "               'cmd': <Key.cmd: <91>>,\n",
       "               'cmd_l': <Key.cmd: <91>>,\n",
       "               'cmd_r': <Key.cmd_r: <92>>,\n",
       "               'ctrl': <Key.ctrl: <17>>,\n",
       "               'ctrl_l': <Key.ctrl_l: <162>>,\n",
       "               'ctrl_r': <Key.ctrl_r: <163>>,\n",
       "               'delete': <Key.delete: <46>>,\n",
       "               'down': <Key.down: <40>>,\n",
       "               'end': <Key.end: <35>>,\n",
       "               'enter': <Key.enter: <13>>,\n",
       "               'esc': <Key.esc: <27>>,\n",
       "               'f1': <Key.f1: <112>>,\n",
       "               'f2': <Key.f2: <113>>,\n",
       "               'f3': <Key.f3: <114>>,\n",
       "               'f4': <Key.f4: <115>>,\n",
       "               'f5': <Key.f5: <116>>,\n",
       "               'f6': <Key.f6: <117>>,\n",
       "               'f7': <Key.f7: <118>>,\n",
       "               'f8': <Key.f8: <119>>,\n",
       "               'f9': <Key.f9: <120>>,\n",
       "               'f10': <Key.f10: <121>>,\n",
       "               'f11': <Key.f11: <122>>,\n",
       "               'f12': <Key.f12: <123>>,\n",
       "               'f13': <Key.f13: <124>>,\n",
       "               'f14': <Key.f14: <125>>,\n",
       "               'f15': <Key.f15: <126>>,\n",
       "               'f16': <Key.f16: <127>>,\n",
       "               'f17': <Key.f17: <128>>,\n",
       "               'f18': <Key.f18: <129>>,\n",
       "               'f19': <Key.f19: <130>>,\n",
       "               'f20': <Key.f20: <131>>,\n",
       "               'f21': <Key.f21: <132>>,\n",
       "               'f22': <Key.f22: <133>>,\n",
       "               'f23': <Key.f23: <134>>,\n",
       "               'f24': <Key.f24: <135>>,\n",
       "               'home': <Key.home: <36>>,\n",
       "               'left': <Key.left: <37>>,\n",
       "               'page_down': <Key.page_down: <34>>,\n",
       "               'page_up': <Key.page_up: <33>>,\n",
       "               'right': <Key.right: <39>>,\n",
       "               'shift': <Key.shift: <160>>,\n",
       "               'shift_l': <Key.shift: <160>>,\n",
       "               'shift_r': <Key.shift_r: <161>>,\n",
       "               'space': <Key.space: ' '>,\n",
       "               'tab': <Key.tab: <9>>,\n",
       "               'up': <Key.up: <38>>,\n",
       "               'media_play_pause': <Key.media_play_pause: <179>>,\n",
       "               'media_volume_mute': <Key.media_volume_mute: <173>>,\n",
       "               'media_volume_down': <Key.media_volume_down: <174>>,\n",
       "               'media_volume_up': <Key.media_volume_up: <175>>,\n",
       "               'media_previous': <Key.media_previous: <177>>,\n",
       "               'media_next': <Key.media_next: <176>>,\n",
       "               'insert': <Key.insert: <45>>,\n",
       "               'menu': <Key.menu: <93>>,\n",
       "               'num_lock': <Key.num_lock: <144>>,\n",
       "               'pause': <Key.pause: <19>>,\n",
       "               'print_screen': <Key.print_screen: <44>>,\n",
       "               'scroll_lock': <Key.scroll_lock: <145>>},\n",
       "              '_member_type_': object,\n",
       "              '_value2member_map_': {<18>: <Key.alt: <18>>,\n",
       "               <164>: <Key.alt_l: <164>>,\n",
       "               <165>: <Key.alt_r: <165>>,\n",
       "               <165>: <Key.alt_gr: <165>>,\n",
       "               <8>: <Key.backspace: <8>>,\n",
       "               <20>: <Key.caps_lock: <20>>,\n",
       "               <91>: <Key.cmd: <91>>,\n",
       "               <92>: <Key.cmd_r: <92>>,\n",
       "               <17>: <Key.ctrl: <17>>,\n",
       "               <162>: <Key.ctrl_l: <162>>,\n",
       "               <163>: <Key.ctrl_r: <163>>,\n",
       "               <46>: <Key.delete: <46>>,\n",
       "               <40>: <Key.down: <40>>,\n",
       "               <35>: <Key.end: <35>>,\n",
       "               <13>: <Key.enter: <13>>,\n",
       "               <27>: <Key.esc: <27>>,\n",
       "               <112>: <Key.f1: <112>>,\n",
       "               <113>: <Key.f2: <113>>,\n",
       "               <114>: <Key.f3: <114>>,\n",
       "               <115>: <Key.f4: <115>>,\n",
       "               <116>: <Key.f5: <116>>,\n",
       "               <117>: <Key.f6: <117>>,\n",
       "               <118>: <Key.f7: <118>>,\n",
       "               <119>: <Key.f8: <119>>,\n",
       "               <120>: <Key.f9: <120>>,\n",
       "               <121>: <Key.f10: <121>>,\n",
       "               <122>: <Key.f11: <122>>,\n",
       "               <123>: <Key.f12: <123>>,\n",
       "               <124>: <Key.f13: <124>>,\n",
       "               <125>: <Key.f14: <125>>,\n",
       "               <126>: <Key.f15: <126>>,\n",
       "               <127>: <Key.f16: <127>>,\n",
       "               <128>: <Key.f17: <128>>,\n",
       "               <129>: <Key.f18: <129>>,\n",
       "               <130>: <Key.f19: <130>>,\n",
       "               <131>: <Key.f20: <131>>,\n",
       "               <132>: <Key.f21: <132>>,\n",
       "               <133>: <Key.f22: <133>>,\n",
       "               <134>: <Key.f23: <134>>,\n",
       "               <135>: <Key.f24: <135>>,\n",
       "               <36>: <Key.home: <36>>,\n",
       "               <37>: <Key.left: <37>>,\n",
       "               <34>: <Key.page_down: <34>>,\n",
       "               <33>: <Key.page_up: <33>>,\n",
       "               <39>: <Key.right: <39>>,\n",
       "               <160>: <Key.shift: <160>>,\n",
       "               <161>: <Key.shift_r: <161>>,\n",
       "               ' ': <Key.space: ' '>,\n",
       "               <9>: <Key.tab: <9>>,\n",
       "               <38>: <Key.up: <38>>,\n",
       "               <179>: <Key.media_play_pause: <179>>,\n",
       "               <173>: <Key.media_volume_mute: <173>>,\n",
       "               <174>: <Key.media_volume_down: <174>>,\n",
       "               <175>: <Key.media_volume_up: <175>>,\n",
       "               <177>: <Key.media_previous: <177>>,\n",
       "               <176>: <Key.media_next: <176>>,\n",
       "               <45>: <Key.insert: <45>>,\n",
       "               <93>: <Key.menu: <93>>,\n",
       "               <144>: <Key.num_lock: <144>>,\n",
       "               <19>: <Key.pause: <19>>,\n",
       "               <44>: <Key.print_screen: <44>>,\n",
       "               <145>: <Key.scroll_lock: <145>>},\n",
       "              'alt': <Key.alt: <18>>,\n",
       "              'alt_l': <Key.alt_l: <164>>,\n",
       "              'alt_r': <Key.alt_r: <165>>,\n",
       "              'alt_gr': <Key.alt_gr: <165>>,\n",
       "              'backspace': <Key.backspace: <8>>,\n",
       "              'caps_lock': <Key.caps_lock: <20>>,\n",
       "              'cmd': <Key.cmd: <91>>,\n",
       "              'cmd_l': <Key.cmd: <91>>,\n",
       "              'cmd_r': <Key.cmd_r: <92>>,\n",
       "              'ctrl': <Key.ctrl: <17>>,\n",
       "              'ctrl_l': <Key.ctrl_l: <162>>,\n",
       "              'ctrl_r': <Key.ctrl_r: <163>>,\n",
       "              'delete': <Key.delete: <46>>,\n",
       "              'down': <Key.down: <40>>,\n",
       "              'end': <Key.end: <35>>,\n",
       "              'enter': <Key.enter: <13>>,\n",
       "              'esc': <Key.esc: <27>>,\n",
       "              'f1': <Key.f1: <112>>,\n",
       "              'f2': <Key.f2: <113>>,\n",
       "              'f3': <Key.f3: <114>>,\n",
       "              'f4': <Key.f4: <115>>,\n",
       "              'f5': <Key.f5: <116>>,\n",
       "              'f6': <Key.f6: <117>>,\n",
       "              'f7': <Key.f7: <118>>,\n",
       "              'f8': <Key.f8: <119>>,\n",
       "              'f9': <Key.f9: <120>>,\n",
       "              'f10': <Key.f10: <121>>,\n",
       "              'f11': <Key.f11: <122>>,\n",
       "              'f12': <Key.f12: <123>>,\n",
       "              'f13': <Key.f13: <124>>,\n",
       "              'f14': <Key.f14: <125>>,\n",
       "              'f15': <Key.f15: <126>>,\n",
       "              'f16': <Key.f16: <127>>,\n",
       "              'f17': <Key.f17: <128>>,\n",
       "              'f18': <Key.f18: <129>>,\n",
       "              'f19': <Key.f19: <130>>,\n",
       "              'f20': <Key.f20: <131>>,\n",
       "              'f21': <Key.f21: <132>>,\n",
       "              'f22': <Key.f22: <133>>,\n",
       "              'f23': <Key.f23: <134>>,\n",
       "              'f24': <Key.f24: <135>>,\n",
       "              'home': <Key.home: <36>>,\n",
       "              'left': <Key.left: <37>>,\n",
       "              'page_down': <Key.page_down: <34>>,\n",
       "              'page_up': <Key.page_up: <33>>,\n",
       "              'right': <Key.right: <39>>,\n",
       "              'shift': <Key.shift: <160>>,\n",
       "              'shift_l': <Key.shift: <160>>,\n",
       "              'shift_r': <Key.shift_r: <161>>,\n",
       "              'space': <Key.space: ' '>,\n",
       "              'tab': <Key.tab: <9>>,\n",
       "              'up': <Key.up: <38>>,\n",
       "              'media_play_pause': <Key.media_play_pause: <179>>,\n",
       "              'media_volume_mute': <Key.media_volume_mute: <173>>,\n",
       "              'media_volume_down': <Key.media_volume_down: <174>>,\n",
       "              'media_volume_up': <Key.media_volume_up: <175>>,\n",
       "              'media_previous': <Key.media_previous: <177>>,\n",
       "              'media_next': <Key.media_next: <176>>,\n",
       "              'insert': <Key.insert: <45>>,\n",
       "              'menu': <Key.menu: <93>>,\n",
       "              'num_lock': <Key.num_lock: <144>>,\n",
       "              'pause': <Key.pause: <19>>,\n",
       "              'print_screen': <Key.print_screen: <44>>,\n",
       "              'scroll_lock': <Key.scroll_lock: <145>>,\n",
       "              '__new__': <function enum.Enum.__new__(cls, value)>})"
      ]
     },
     "execution_count": 9,
     "metadata": {},
     "output_type": "execute_result"
    }
   ],
   "source": [
    "keyboard.Key.__dict__"
   ]
  },
  {
   "cell_type": "code",
   "execution_count": 14,
   "metadata": {},
   "outputs": [
    {
     "data": {
      "text/plain": [
       "<PowerMode.NORMAL: 1>"
      ]
     },
     "execution_count": 14,
     "metadata": {},
     "output_type": "execute_result"
    }
   ],
   "source": [
    "yl.PowerMode.NORMAL"
   ]
  },
  {
   "cell_type": "code",
   "execution_count": 2,
   "metadata": {},
   "outputs": [],
   "source": [
    "from __future__ import print_function\n",
    "from ipywidgets import interact, interactive, fixed, interact_manual\n",
    "import ipywidgets as widgets"
   ]
  },
  {
   "cell_type": "code",
   "execution_count": 3,
   "metadata": {},
   "outputs": [],
   "source": [
    "from LightGroup import LightGroup"
   ]
  },
  {
   "cell_type": "code",
   "execution_count": 9,
   "metadata": {},
   "outputs": [],
   "source": [
    "lg = LightGroup('bedroom', ['bedroom1'])"
   ]
  },
  {
   "cell_type": "code",
   "execution_count": 10,
   "metadata": {},
   "outputs": [
    {
     "data": {
      "text/plain": [
       "[<Bulb.Bulb at 0x200ebd65be0>]"
      ]
     },
     "execution_count": 10,
     "metadata": {},
     "output_type": "execute_result"
    }
   ],
   "source": [
    "lg.bulbs"
   ]
  },
  {
   "cell_type": "code",
   "execution_count": 11,
   "metadata": {},
   "outputs": [],
   "source": [
    "target = lg.degrees\n",
    "def on_scroll(x, y, dx, dy):\n",
    "    global target\n",
    "#     print('Scrolled {0} at {1}'.format(\n",
    "#         'down' if dy < 0 else 'up',\n",
    "#         (x, y)))\n",
    "    \n",
    "    if dy < 0:\n",
    "        target -= 50\n",
    "        \n",
    "    elif dy > 0:\n",
    "        target += 50\n",
    "        \n",
    "    target = min(6700, max(target, 1700))  \n",
    "    lg.set_color_temp(target)\n",
    "\n",
    "lg.toggle_music_mode(1)\n",
    "# Collect events until released\n",
    "if globals().get('listener'):\n",
    "    listener.stop()\n",
    "listener = mouse.Listener(\n",
    "        on_scroll=on_scroll)\n",
    "listener.start()"
   ]
  },
  {
   "cell_type": "code",
   "execution_count": 13,
   "metadata": {},
   "outputs": [
    {
     "data": {
      "text/plain": [
       "'0'"
      ]
     },
     "execution_count": 13,
     "metadata": {},
     "output_type": "execute_result"
    }
   ],
   "source": [
    "listener.stop()\n",
    "lg.toggle_music_mode('0')"
   ]
  },
  {
   "cell_type": "code",
   "execution_count": 14,
   "metadata": {},
   "outputs": [],
   "source": [
    "target = lg.brightness\n",
    "def on_scroll(x, y, dx, dy):\n",
    "    global target\n",
    "#     print('Scrolled {0} at {1}'.format(\n",
    "#         'down' if dy < 0 else 'up',\n",
    "#         (x, y)))\n",
    "    \n",
    "    if dy < 0:\n",
    "        target -= 5\n",
    "        \n",
    "    elif dy > 0:\n",
    "        target += 5\n",
    "        \n",
    "    target = min(100, max(target, 0))  \n",
    "    lg.set_brightness(target)\n",
    "\n",
    "lg.toggle_music_mode(1)\n",
    "# Collect events until released\n",
    "if globals().get('listener'):\n",
    "    listener.stop()\n",
    "listener = mouse.Listener(\n",
    "        on_scroll=on_scroll)\n",
    "listener.start()"
   ]
  },
  {
   "cell_type": "code",
   "execution_count": 15,
   "metadata": {},
   "outputs": [
    {
     "data": {
      "text/plain": [
       "'0'"
      ]
     },
     "execution_count": 15,
     "metadata": {},
     "output_type": "execute_result"
    }
   ],
   "source": [
    "listener.stop()\n",
    "lg.toggle_music_mode('0')"
   ]
  },
  {
   "cell_type": "code",
   "execution_count": 10,
   "metadata": {},
   "outputs": [],
   "source": [
    "lg.save_state('bedroom.txt')"
   ]
  },
  {
   "cell_type": "code",
   "execution_count": 12,
   "metadata": {},
   "outputs": [
    {
     "name": "stdout",
     "output_type": "stream",
     "text": [
      "{'on': 'True', 'mode': '1', 'h': '0', 's': '0', 'brightness': '10', 'degrees': '2600', 'r': '255', 'g': '255', 'b': '255', 'group_name': 'bedroom', 'names': 'bedroom1'}\n"
     ]
    }
   ],
   "source": [
    "lg = LightGroup('bedroom', ['bedroom1'], 'bedroom.txt')"
   ]
  },
  {
   "cell_type": "code",
   "execution_count": null,
   "metadata": {},
   "outputs": [],
   "source": []
  },
  {
   "cell_type": "code",
   "execution_count": 23,
   "metadata": {},
   "outputs": [
    {
     "data": {
      "text/plain": [
       "[{'ip': '192.168.1.230',\n",
       "  'port': 55443,\n",
       "  'capabilities': {'id': '0x00000000158acbe2',\n",
       "   'model': 'color4',\n",
       "   'fw_ver': '34',\n",
       "   'support': 'get_prop set_default set_power toggle set_bright set_scene cron_add cron_get cron_del start_cf stop_cf set_ct_abx adjust_ct set_name set_adjust adjust_bright adjust_color set_rgb set_hsv set_music udp_sess_new udp_sess_keep_alive udp_chroma_sess_new',\n",
       "   'power': 'on',\n",
       "   'bright': '100',\n",
       "   'color_mode': '2',\n",
       "   'ct': '4650',\n",
       "   'rgb': '16744474',\n",
       "   'hue': '27',\n",
       "   'sat': '89',\n",
       "   'name': 'bedroom1'}}]"
      ]
     },
     "execution_count": 23,
     "metadata": {},
     "output_type": "execute_result"
    }
   ],
   "source": [
    "discover_bulbs()"
   ]
  },
  {
   "cell_type": "code",
   "execution_count": 36,
   "metadata": {},
   "outputs": [
    {
     "data": {
      "text/plain": [
       "'0'"
      ]
     },
     "execution_count": 36,
     "metadata": {},
     "output_type": "execute_result"
    }
   ],
   "source": [
    "bulbs = get_bulbs(['bedroom1'])\n",
    "bulbs[0].get_properties()['music_on']"
   ]
  },
  {
   "cell_type": "code",
   "execution_count": 38,
   "metadata": {},
   "outputs": [
    {
     "data": {
      "application/vnd.jupyter.widget-view+json": {
       "model_id": "8e7ea650795e4056947a7a44e44e2238",
       "version_major": 2,
       "version_minor": 0
      },
      "text/plain": [
       "interactive(children=(IntSlider(value=4000, description='temp', max=6700, min=1500, step=50), Output()), _dom_…"
      ]
     },
     "metadata": {},
     "output_type": "display_data"
    },
    {
     "data": {
      "text/plain": [
       "<function __main__.set_color_temp_slider(temp)>"
      ]
     },
     "execution_count": 38,
     "metadata": {},
     "output_type": "execute_result"
    }
   ],
   "source": [
    "prev_t = time.time()\n",
    "def set_color_temp_slider(temp):\n",
    "    global prev_t\n",
    "    \n",
    "    if time.time() < prev_t + .1:\n",
    "        return\n",
    "    set_color_temp(bulbs, temp)\n",
    "    prev_t = time.time()\n",
    "\n",
    "toggle_music_mode(bulbs, state=1)\n",
    "interact(set_color_temp_slider, temp=widgets.IntSlider(min=1500, max=6700, step=50, value=4000))"
   ]
  },
  {
   "cell_type": "code",
   "execution_count": 31,
   "metadata": {},
   "outputs": [
    {
     "data": {
      "text/plain": [
       "{'_ip': '192.168.1.230',\n",
       " '_port': 55443,\n",
       " 'effect': 'smooth',\n",
       " 'duration': 300,\n",
       " 'auto_on': False,\n",
       " 'power_mode': <PowerMode.LAST: 0>,\n",
       " '_model': None,\n",
       " '_Bulb__cmd_id': 112,\n",
       " '_last_properties': {'power': 'on',\n",
       "  'bright': '100',\n",
       "  'ct': '3750',\n",
       "  'rgb': '2544895',\n",
       "  'hue': '192',\n",
       "  'sat': '85',\n",
       "  'color_mode': '2',\n",
       "  'flowing': '0',\n",
       "  'delayoff': '0',\n",
       "  'music_on': '0',\n",
       "  'name': 'bedroom1',\n",
       "  'bg_power': None,\n",
       "  'bg_flowing': None,\n",
       "  'bg_ct': None,\n",
       "  'bg_bright': None,\n",
       "  'bg_hue': None,\n",
       "  'bg_sat': None,\n",
       "  'bg_rgb': None,\n",
       "  'nl_br': None,\n",
       "  'active_mode': None,\n",
       "  'current_brightness': '100'},\n",
       " '_capabilities': {'id': '0x00000000158acbe2',\n",
       "  'model': 'color4',\n",
       "  'fw_ver': '34',\n",
       "  'support': 'get_prop set_default set_power toggle set_bright set_scene cron_add cron_get cron_del start_cf stop_cf set_ct_abx adjust_ct set_name set_adjust adjust_bright adjust_color set_rgb set_hsv set_music udp_sess_new udp_sess_keep_alive udp_chroma_sess_new',\n",
       "  'power': 'on',\n",
       "  'bright': '100',\n",
       "  'color_mode': '2',\n",
       "  'ct': '3750',\n",
       "  'rgb': '2544895',\n",
       "  'hue': '192',\n",
       "  'sat': '85',\n",
       "  'name': 'bedroom1'},\n",
       " '_music_mode': False,\n",
       " '_Bulb__socket': <socket.socket fd=804, family=AddressFamily.AF_INET, type=SocketKind.SOCK_STREAM, proto=0, laddr=('192.168.1.29', 63531), raddr=('192.168.1.230', 55443)>,\n",
       " '_notification_socket': None,\n",
       " '_is_listening': False}"
      ]
     },
     "execution_count": 31,
     "metadata": {},
     "output_type": "execute_result"
    }
   ],
   "source": [
    "bulbs[0].bulb.__dict__"
   ]
  },
  {
   "cell_type": "code",
   "execution_count": null,
   "metadata": {},
   "outputs": [],
   "source": []
  }
 ],
 "metadata": {
  "kernelspec": {
   "display_name": "Python 3",
   "language": "python",
   "name": "python3"
  },
  "language_info": {
   "codemirror_mode": {
    "name": "ipython",
    "version": 3
   },
   "file_extension": ".py",
   "mimetype": "text/x-python",
   "name": "python",
   "nbconvert_exporter": "python",
   "pygments_lexer": "ipython3",
   "version": "3.8.5"
  }
 },
 "nbformat": 4,
 "nbformat_minor": 4
}
