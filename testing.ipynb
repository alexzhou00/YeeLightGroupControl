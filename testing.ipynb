{
 "cells": [
  {
   "cell_type": "code",
   "execution_count": 1,
   "metadata": {},
   "outputs": [],
   "source": [
    "import yeelight as yl\n",
    "from yeelight import discover_bulbs\n",
    "import time\n",
    "from pynput import mouse"
   ]
  },
  {
   "cell_type": "code",
   "execution_count": 2,
   "metadata": {},
   "outputs": [],
   "source": [
    "from __future__ import print_function\n",
    "from ipywidgets import interact, interactive, fixed, interact_manual\n",
    "import ipywidgets as widgets"
   ]
  },
  {
   "cell_type": "code",
   "execution_count": 3,
   "metadata": {},
   "outputs": [],
   "source": [
    "from LightGroup import LightGroup"
   ]
  },
  {
   "cell_type": "code",
   "execution_count": 9,
   "metadata": {},
   "outputs": [],
   "source": [
    "lg = LightGroup('bedroom', ['bedroom1'])"
   ]
  },
  {
   "cell_type": "code",
   "execution_count": 10,
   "metadata": {},
   "outputs": [
    {
     "data": {
      "text/plain": [
       "[<Bulb.Bulb at 0x200ebd65be0>]"
      ]
     },
     "execution_count": 10,
     "metadata": {},
     "output_type": "execute_result"
    }
   ],
   "source": [
    "lg.bulbs"
   ]
  },
  {
   "cell_type": "code",
   "execution_count": 11,
   "metadata": {},
   "outputs": [],
   "source": [
    "target = lg.degrees\n",
    "def on_scroll(x, y, dx, dy):\n",
    "    global target\n",
    "#     print('Scrolled {0} at {1}'.format(\n",
    "#         'down' if dy < 0 else 'up',\n",
    "#         (x, y)))\n",
    "    \n",
    "    if dy < 0:\n",
    "        target -= 50\n",
    "        \n",
    "    elif dy > 0:\n",
    "        target += 50\n",
    "        \n",
    "    target = min(6700, max(target, 1700))  \n",
    "    lg.set_color_temp(target)\n",
    "\n",
    "lg.toggle_music_mode(1)\n",
    "# Collect events until released\n",
    "if globals().get('listener'):\n",
    "    listener.stop()\n",
    "listener = mouse.Listener(\n",
    "        on_scroll=on_scroll)\n",
    "listener.start()"
   ]
  },
  {
   "cell_type": "code",
   "execution_count": 13,
   "metadata": {},
   "outputs": [
    {
     "data": {
      "text/plain": [
       "'0'"
      ]
     },
     "execution_count": 13,
     "metadata": {},
     "output_type": "execute_result"
    }
   ],
   "source": [
    "listener.stop()\n",
    "lg.toggle_music_mode('0')"
   ]
  },
  {
   "cell_type": "code",
   "execution_count": 14,
   "metadata": {},
   "outputs": [],
   "source": [
    "target = lg.brightness\n",
    "def on_scroll(x, y, dx, dy):\n",
    "    global target\n",
    "#     print('Scrolled {0} at {1}'.format(\n",
    "#         'down' if dy < 0 else 'up',\n",
    "#         (x, y)))\n",
    "    \n",
    "    if dy < 0:\n",
    "        target -= 5\n",
    "        \n",
    "    elif dy > 0:\n",
    "        target += 5\n",
    "        \n",
    "    target = min(100, max(target, 0))  \n",
    "    lg.set_brightness(target)\n",
    "\n",
    "lg.toggle_music_mode(1)\n",
    "# Collect events until released\n",
    "if globals().get('listener'):\n",
    "    listener.stop()\n",
    "listener = mouse.Listener(\n",
    "        on_scroll=on_scroll)\n",
    "listener.start()"
   ]
  },
  {
   "cell_type": "code",
   "execution_count": 15,
   "metadata": {},
   "outputs": [
    {
     "data": {
      "text/plain": [
       "'0'"
      ]
     },
     "execution_count": 15,
     "metadata": {},
     "output_type": "execute_result"
    }
   ],
   "source": [
    "listener.stop()\n",
    "lg.toggle_music_mode('0')"
   ]
  },
  {
   "cell_type": "code",
   "execution_count": 10,
   "metadata": {},
   "outputs": [],
   "source": [
    "lg.save_state('bedroom.txt')"
   ]
  },
  {
   "cell_type": "code",
   "execution_count": 12,
   "metadata": {},
   "outputs": [
    {
     "name": "stdout",
     "output_type": "stream",
     "text": [
      "{'on': 'True', 'mode': '1', 'h': '0', 's': '0', 'brightness': '10', 'degrees': '2600', 'r': '255', 'g': '255', 'b': '255', 'group_name': 'bedroom', 'names': 'bedroom1'}\n"
     ]
    }
   ],
   "source": [
    "lg = LightGroup('bedroom', ['bedroom1'], 'bedroom.txt')"
   ]
  },
  {
   "cell_type": "code",
   "execution_count": null,
   "metadata": {},
   "outputs": [],
   "source": []
  },
  {
   "cell_type": "code",
   "execution_count": 35,
   "metadata": {},
   "outputs": [
    {
     "data": {
      "text/plain": [
       "[{'ip': '192.168.1.230',\n",
       "  'port': 55443,\n",
       "  'capabilities': {'id': '0x00000000158acbe2',\n",
       "   'model': 'color4',\n",
       "   'fw_ver': '34',\n",
       "   'support': 'get_prop set_default set_power toggle set_bright set_scene cron_add cron_get cron_del start_cf stop_cf set_ct_abx adjust_ct set_name set_adjust adjust_bright adjust_color set_rgb set_hsv set_music udp_sess_new udp_sess_keep_alive udp_chroma_sess_new',\n",
       "   'power': 'on',\n",
       "   'bright': '100',\n",
       "   'color_mode': '2',\n",
       "   'ct': '3750',\n",
       "   'rgb': '16744474',\n",
       "   'hue': '27',\n",
       "   'sat': '89',\n",
       "   'name': 'bedroom1'}}]"
      ]
     },
     "execution_count": 35,
     "metadata": {},
     "output_type": "execute_result"
    }
   ],
   "source": [
    "discover_bulbs()"
   ]
  },
  {
   "cell_type": "code",
   "execution_count": 36,
   "metadata": {},
   "outputs": [
    {
     "data": {
      "text/plain": [
       "'0'"
      ]
     },
     "execution_count": 36,
     "metadata": {},
     "output_type": "execute_result"
    }
   ],
   "source": [
    "bulbs = get_bulbs(['bedroom1'])\n",
    "bulbs[0].get_properties()['music_on']"
   ]
  },
  {
   "cell_type": "code",
   "execution_count": 38,
   "metadata": {},
   "outputs": [
    {
     "data": {
      "application/vnd.jupyter.widget-view+json": {
       "model_id": "8e7ea650795e4056947a7a44e44e2238",
       "version_major": 2,
       "version_minor": 0
      },
      "text/plain": [
       "interactive(children=(IntSlider(value=4000, description='temp', max=6700, min=1500, step=50), Output()), _dom_…"
      ]
     },
     "metadata": {},
     "output_type": "display_data"
    },
    {
     "data": {
      "text/plain": [
       "<function __main__.set_color_temp_slider(temp)>"
      ]
     },
     "execution_count": 38,
     "metadata": {},
     "output_type": "execute_result"
    }
   ],
   "source": [
    "prev_t = time.time()\n",
    "def set_color_temp_slider(temp):\n",
    "    global prev_t\n",
    "    \n",
    "    if time.time() < prev_t + .1:\n",
    "        return\n",
    "    set_color_temp(bulbs, temp)\n",
    "    prev_t = time.time()\n",
    "\n",
    "toggle_music_mode(bulbs, state=1)\n",
    "interact(set_color_temp_slider, temp=widgets.IntSlider(min=1500, max=6700, step=50, value=4000))"
   ]
  },
  {
   "cell_type": "code",
   "execution_count": 31,
   "metadata": {},
   "outputs": [
    {
     "data": {
      "text/plain": [
       "{'_ip': '192.168.1.230',\n",
       " '_port': 55443,\n",
       " 'effect': 'smooth',\n",
       " 'duration': 300,\n",
       " 'auto_on': False,\n",
       " 'power_mode': <PowerMode.LAST: 0>,\n",
       " '_model': None,\n",
       " '_Bulb__cmd_id': 112,\n",
       " '_last_properties': {'power': 'on',\n",
       "  'bright': '100',\n",
       "  'ct': '3750',\n",
       "  'rgb': '2544895',\n",
       "  'hue': '192',\n",
       "  'sat': '85',\n",
       "  'color_mode': '2',\n",
       "  'flowing': '0',\n",
       "  'delayoff': '0',\n",
       "  'music_on': '0',\n",
       "  'name': 'bedroom1',\n",
       "  'bg_power': None,\n",
       "  'bg_flowing': None,\n",
       "  'bg_ct': None,\n",
       "  'bg_bright': None,\n",
       "  'bg_hue': None,\n",
       "  'bg_sat': None,\n",
       "  'bg_rgb': None,\n",
       "  'nl_br': None,\n",
       "  'active_mode': None,\n",
       "  'current_brightness': '100'},\n",
       " '_capabilities': {'id': '0x00000000158acbe2',\n",
       "  'model': 'color4',\n",
       "  'fw_ver': '34',\n",
       "  'support': 'get_prop set_default set_power toggle set_bright set_scene cron_add cron_get cron_del start_cf stop_cf set_ct_abx adjust_ct set_name set_adjust adjust_bright adjust_color set_rgb set_hsv set_music udp_sess_new udp_sess_keep_alive udp_chroma_sess_new',\n",
       "  'power': 'on',\n",
       "  'bright': '100',\n",
       "  'color_mode': '2',\n",
       "  'ct': '3750',\n",
       "  'rgb': '2544895',\n",
       "  'hue': '192',\n",
       "  'sat': '85',\n",
       "  'name': 'bedroom1'},\n",
       " '_music_mode': False,\n",
       " '_Bulb__socket': <socket.socket fd=804, family=AddressFamily.AF_INET, type=SocketKind.SOCK_STREAM, proto=0, laddr=('192.168.1.29', 63531), raddr=('192.168.1.230', 55443)>,\n",
       " '_notification_socket': None,\n",
       " '_is_listening': False}"
      ]
     },
     "execution_count": 31,
     "metadata": {},
     "output_type": "execute_result"
    }
   ],
   "source": [
    "bulbs[0].bulb.__dict__"
   ]
  },
  {
   "cell_type": "code",
   "execution_count": null,
   "metadata": {},
   "outputs": [],
   "source": []
  }
 ],
 "metadata": {
  "kernelspec": {
   "display_name": "Python 3",
   "language": "python",
   "name": "python3"
  },
  "language_info": {
   "codemirror_mode": {
    "name": "ipython",
    "version": 3
   },
   "file_extension": ".py",
   "mimetype": "text/x-python",
   "name": "python",
   "nbconvert_exporter": "python",
   "pygments_lexer": "ipython3",
   "version": "3.8.5"
  }
 },
 "nbformat": 4,
 "nbformat_minor": 4
}
