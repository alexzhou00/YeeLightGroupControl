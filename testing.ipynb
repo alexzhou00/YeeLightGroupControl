{
 "cells": [
  {
   "cell_type": "code",
   "execution_count": 1,
   "metadata": {},
   "outputs": [],
   "source": [
    "import yeelight as yl\n",
    "from yeelight import discover_bulbs\n",
    "import time\n",
    "from pynput import mouse"
   ]
  },
  {
   "cell_type": "code",
   "execution_count": 9,
   "metadata": {},
   "outputs": [
    {
     "data": {
      "text/plain": [
       "[{'ip': '192.168.1.230',\n",
       "  'port': 55443,\n",
       "  'capabilities': {'id': '0x00000000158acbe2',\n",
       "   'model': 'color4',\n",
       "   'fw_ver': '34',\n",
       "   'support': 'get_prop set_default set_power toggle set_bright set_scene cron_add cron_get cron_del start_cf stop_cf set_ct_abx adjust_ct set_name set_adjust adjust_bright adjust_color set_rgb set_hsv set_music udp_sess_new udp_sess_keep_alive udp_chroma_sess_new',\n",
       "   'power': 'on',\n",
       "   'bright': '100',\n",
       "   'color_mode': '2',\n",
       "   'ct': '5550',\n",
       "   'rgb': '2544895',\n",
       "   'hue': '192',\n",
       "   'sat': '85',\n",
       "   'name': 'bedroom1'}}]"
      ]
     },
     "execution_count": 9,
     "metadata": {},
     "output_type": "execute_result"
    }
   ],
   "source": [
    "discover_bulbs()"
   ]
  },
  {
   "cell_type": "code",
   "execution_count": 2,
   "metadata": {},
   "outputs": [],
   "source": [
    "def get_bulbs(names):\n",
    "    bulb_dicts = discover_bulbs()\n",
    "    bulbs = []\n",
    "    for bulb_dict in bulb_dicts:\n",
    "        if bulb_dict['capabilities']['name'] in names:\n",
    "            bulbs.append(yl.Bulb(bulb_dict['ip']))\n",
    "            \n",
    "    return bulbs"
   ]
  },
  {
   "cell_type": "code",
   "execution_count": 3,
   "metadata": {},
   "outputs": [],
   "source": [
    "def toggle_music_mode(bulbs, state=None):\n",
    "    for bulb in bulbs:\n",
    "        try:\n",
    "            bulb.get_properties()\n",
    "        except yl.BulbException as e:\n",
    "            print(e)\n",
    "            return -1\n",
    "        \n",
    "        if state is None:\n",
    "            if bulb.get_properties()['music_on'] == '0':\n",
    "                target = 1\n",
    "            else:\n",
    "                target = '0'\n",
    "        else:\n",
    "            target = state\n",
    "        \n",
    "        if target == 1:\n",
    "            method = bulb.start_music\n",
    "        else:\n",
    "            method = bulb.stop_music\n",
    "\n",
    "        while bulb.get_properties()['music_on'] != target:\n",
    "            o = bulb.get_properties()['music_on']\n",
    "            try:\n",
    "                method()\n",
    "                break\n",
    "            except yl.BulbException as e:\n",
    "                pass\n",
    "            except TypeError as e:\n",
    "                print(\"Caught error:\", e)\n",
    "    return target"
   ]
  },
  {
   "cell_type": "code",
   "execution_count": 4,
   "metadata": {},
   "outputs": [],
   "source": [
    "def set_color_temp(bulbs, degrees):    \n",
    "    degrees =  min(6500, max(degrees, 1700))\n",
    "    for bulb in bulbs:\n",
    "        try:\n",
    "            bulb.set_power_mode(yl.PowerMode.NORMAL)\n",
    "            bulb.set_color_temp(degrees)\n",
    "        except yl.BulbException as e:\n",
    "            pass"
   ]
  },
  {
   "cell_type": "code",
   "execution_count": 5,
   "metadata": {},
   "outputs": [],
   "source": [
    "from __future__ import print_function\n",
    "from ipywidgets import interact, interactive, fixed, interact_manual\n",
    "import ipywidgets as widgets"
   ]
  },
  {
   "cell_type": "code",
   "execution_count": 16,
   "metadata": {},
   "outputs": [
    {
     "data": {
      "text/plain": [
       "'0'"
      ]
     },
     "execution_count": 16,
     "metadata": {},
     "output_type": "execute_result"
    }
   ],
   "source": [
    "bulbs = get_bulbs(['bedroom1'])\n",
    "bulbs[0].get_properties()['music_on']"
   ]
  },
  {
   "cell_type": "code",
   "execution_count": 17,
   "metadata": {},
   "outputs": [
    {
     "data": {
      "application/vnd.jupyter.widget-view+json": {
       "model_id": "c5aa64c4d96f4c569fa2ad92d2470a55",
       "version_major": 2,
       "version_minor": 0
      },
      "text/plain": [
       "interactive(children=(IntSlider(value=4000, description='temp', max=6700, min=1500, step=50), Output()), _dom_…"
      ]
     },
     "metadata": {},
     "output_type": "display_data"
    },
    {
     "data": {
      "text/plain": [
       "<function __main__.set_color_temp_slider(temp)>"
      ]
     },
     "execution_count": 17,
     "metadata": {},
     "output_type": "execute_result"
    }
   ],
   "source": [
    "prev_t = time.time()\n",
    "def set_color_temp_slider(temp):\n",
    "    global prev_t\n",
    "    \n",
    "    if time.time() < prev_t + .1:\n",
    "        return\n",
    "    set_color_temp(bulbs, temp)\n",
    "    prev_t = time.time()\n",
    "\n",
    "toggle_music_mode(bulbs, state=1)\n",
    "interact(set_color_temp_slider, temp=widgets.IntSlider(min=1500, max=6700, step=50, value=4000))"
   ]
  },
  {
   "cell_type": "code",
   "execution_count": 18,
   "metadata": {},
   "outputs": [
    {
     "data": {
      "text/plain": [
       "'0'"
      ]
     },
     "execution_count": 18,
     "metadata": {},
     "output_type": "execute_result"
    }
   ],
   "source": [
    "toggle_music_mode(bulbs, state='0')"
   ]
  },
  {
   "cell_type": "code",
   "execution_count": 147,
   "metadata": {
    "scrolled": true
   },
   "outputs": [
    {
     "data": {
      "text/plain": [
       "[Bulb<192.168.1.230:55443, type=BulbType.Color>]"
      ]
     },
     "execution_count": 147,
     "metadata": {},
     "output_type": "execute_result"
    }
   ],
   "source": [
    "bulbs"
   ]
  },
  {
   "cell_type": "code",
   "execution_count": 37,
   "metadata": {},
   "outputs": [],
   "source": [
    "target = int(bulbs[0].get_properties()['ct'])\n",
    "def on_scroll(x, y, dx, dy):\n",
    "    global target\n",
    "#     print('Scrolled {0} at {1}'.format(\n",
    "#         'down' if dy < 0 else 'up',\n",
    "#         (x, y)))\n",
    "    \n",
    "    if dy < 0:\n",
    "        target -= 50\n",
    "        \n",
    "    elif dy > 0:\n",
    "        target += 50\n",
    "        \n",
    "    target = min(6700, max(target, 1700))  \n",
    "    set_color_temp_slider(target)\n",
    "\n",
    "toggle_music_mode(bulbs, 1)\n",
    "# Collect events until released\n",
    "if globals().get('listener'):\n",
    "    listener.stop()\n",
    "listener = mouse.Listener(\n",
    "        on_scroll=on_scroll)\n",
    "listener.start()"
   ]
  },
  {
   "cell_type": "code",
   "execution_count": 40,
   "metadata": {},
   "outputs": [],
   "source": [
    "toggle_music_mode(bulbs, '0')\n",
    "listener.stop()"
   ]
  },
  {
   "cell_type": "code",
   "execution_count": 41,
   "metadata": {},
   "outputs": [
    {
     "data": {
      "text/plain": [
       "[Bulb<192.168.1.230:55443, type=BulbType.Color>]"
      ]
     },
     "execution_count": 41,
     "metadata": {},
     "output_type": "execute_result"
    }
   ],
   "source": [
    "bulbs"
   ]
  },
  {
   "cell_type": "code",
   "execution_count": 39,
   "metadata": {},
   "outputs": [
    {
     "data": {
      "text/plain": [
       "{'power': 'on',\n",
       " 'bright': '100',\n",
       " 'ct': '3750',\n",
       " 'rgb': '2544895',\n",
       " 'hue': '192',\n",
       " 'sat': '85',\n",
       " 'color_mode': '2',\n",
       " 'flowing': '0',\n",
       " 'delayoff': '0',\n",
       " 'music_on': '0',\n",
       " 'name': 'bedroom1',\n",
       " 'bg_power': None,\n",
       " 'bg_flowing': None,\n",
       " 'bg_ct': None,\n",
       " 'bg_bright': None,\n",
       " 'bg_hue': None,\n",
       " 'bg_sat': None,\n",
       " 'bg_rgb': None,\n",
       " 'nl_br': None,\n",
       " 'active_mode': None,\n",
       " 'current_brightness': '100'}"
      ]
     },
     "execution_count": 39,
     "metadata": {},
     "output_type": "execute_result"
    }
   ],
   "source": [
    "bulbs[0].get_properties()"
   ]
  },
  {
   "cell_type": "code",
   "execution_count": 6,
   "metadata": {},
   "outputs": [],
   "source": [
    "from utils import get_bulbs\n",
    "bulbs = get_bulbs(['bedroom1'])"
   ]
  },
  {
   "cell_type": "code",
   "execution_count": 16,
   "metadata": {},
   "outputs": [],
   "source": [
    "prev_t = time.time()\n",
    "def set_brightness(bulbs, brightness):\n",
    "    global prev_t \n",
    "    brightness = min(100, max(brightness, 0))\n",
    "\n",
    "    # Rate limit commands\n",
    "    if time.time() < prev_t + .1:\n",
    "        return 0\n",
    "\n",
    "    for bulb in bulbs:\n",
    "        try:\n",
    "            if brightness == 0:\n",
    "                if bulb.on:\n",
    "                    bulb.turn_off()\n",
    "            else:\n",
    "                if not bulb.on:\n",
    "                    bulb.turn_on()\n",
    "                bulb.set_brightness(brightness)\n",
    "        except yl.BulbException as e:\n",
    "            pass \n",
    "    prev_t = time.time()\n",
    "    return brightness"
   ]
  },
  {
   "cell_type": "code",
   "execution_count": 19,
   "metadata": {},
   "outputs": [],
   "source": [
    "target = int(bulbs[0].get_properties()['bright'])\n",
    "def on_scroll(x, y, dx, dy):\n",
    "    global target\n",
    "#     print('Scrolled {0} at {1}'.format(\n",
    "#         'down' if dy < 0 else 'up',\n",
    "#         (x, y)))\n",
    "    \n",
    "    if dy < 0:\n",
    "        target -= 5\n",
    "        \n",
    "    elif dy > 0:\n",
    "        target += 5\n",
    "        \n",
    "    target = min(100, max(target, 0))  \n",
    "    set_brightness(bulbs, target)\n",
    "\n",
    "toggle_music_mode(bulbs, 1)\n",
    "# Collect events until released\n",
    "if globals().get('listener'):\n",
    "    listener.stop()\n",
    "listener = mouse.Listener(\n",
    "        on_scroll=on_scroll)\n",
    "listener.start()"
   ]
  },
  {
   "cell_type": "code",
   "execution_count": 20,
   "metadata": {},
   "outputs": [],
   "source": [
    "toggle_music_mode(bulbs, '0')\n",
    "listener.stop()"
   ]
  },
  {
   "cell_type": "code",
   "execution_count": 21,
   "metadata": {},
   "outputs": [
    {
     "data": {
      "text/plain": [
       "{'power': 'on',\n",
       " 'bright': '100',\n",
       " 'ct': '3750',\n",
       " 'rgb': '2544895',\n",
       " 'hue': '192',\n",
       " 'sat': '85',\n",
       " 'color_mode': '2',\n",
       " 'flowing': '0',\n",
       " 'delayoff': '0',\n",
       " 'music_on': '0',\n",
       " 'name': 'bedroom1',\n",
       " 'bg_power': None,\n",
       " 'bg_flowing': None,\n",
       " 'bg_ct': None,\n",
       " 'bg_bright': None,\n",
       " 'bg_hue': None,\n",
       " 'bg_sat': None,\n",
       " 'bg_rgb': None,\n",
       " 'nl_br': None,\n",
       " 'active_mode': None,\n",
       " 'current_brightness': '100'}"
      ]
     },
     "execution_count": 21,
     "metadata": {},
     "output_type": "execute_result"
    }
   ],
   "source": [
    "bulbs[0].get_properties()"
   ]
  },
  {
   "cell_type": "code",
   "execution_count": 22,
   "metadata": {},
   "outputs": [
    {
     "data": {
      "text/plain": [
       "{'id': '0x00000000158acbe2',\n",
       " 'model': 'color4',\n",
       " 'fw_ver': '34',\n",
       " 'support': 'get_prop set_default set_power toggle set_bright set_scene cron_add cron_get cron_del start_cf stop_cf set_ct_abx adjust_ct set_name set_adjust adjust_bright adjust_color set_rgb set_hsv set_music udp_sess_new udp_sess_keep_alive udp_chroma_sess_new',\n",
       " 'power': 'on',\n",
       " 'bright': '100',\n",
       " 'color_mode': '2',\n",
       " 'ct': '3750',\n",
       " 'rgb': '2544895',\n",
       " 'hue': '192',\n",
       " 'sat': '85',\n",
       " 'name': 'bedroom1'}"
      ]
     },
     "execution_count": 22,
     "metadata": {},
     "output_type": "execute_result"
    }
   ],
   "source": [
    "bulbs[0].get_capabilities()"
   ]
  },
  {
   "cell_type": "code",
   "execution_count": 28,
   "metadata": {},
   "outputs": [
    {
     "data": {
      "text/plain": [
       "{'color_temp': {'min': 1700, 'max': 6500},\n",
       " 'night_light': False,\n",
       " 'background_light': False}"
      ]
     },
     "execution_count": 28,
     "metadata": {},
     "output_type": "execute_result"
    }
   ],
   "source": [
    "bulbs[0].get_model_specs()"
   ]
  },
  {
   "cell_type": "code",
   "execution_count": 31,
   "metadata": {},
   "outputs": [
    {
     "data": {
      "text/plain": [
       "{'_ip': '192.168.1.230',\n",
       " '_port': 55443,\n",
       " 'effect': 'smooth',\n",
       " 'duration': 300,\n",
       " 'auto_on': False,\n",
       " 'power_mode': <PowerMode.LAST: 0>,\n",
       " '_model': None,\n",
       " '_Bulb__cmd_id': 112,\n",
       " '_last_properties': {'power': 'on',\n",
       "  'bright': '100',\n",
       "  'ct': '3750',\n",
       "  'rgb': '2544895',\n",
       "  'hue': '192',\n",
       "  'sat': '85',\n",
       "  'color_mode': '2',\n",
       "  'flowing': '0',\n",
       "  'delayoff': '0',\n",
       "  'music_on': '0',\n",
       "  'name': 'bedroom1',\n",
       "  'bg_power': None,\n",
       "  'bg_flowing': None,\n",
       "  'bg_ct': None,\n",
       "  'bg_bright': None,\n",
       "  'bg_hue': None,\n",
       "  'bg_sat': None,\n",
       "  'bg_rgb': None,\n",
       "  'nl_br': None,\n",
       "  'active_mode': None,\n",
       "  'current_brightness': '100'},\n",
       " '_capabilities': {'id': '0x00000000158acbe2',\n",
       "  'model': 'color4',\n",
       "  'fw_ver': '34',\n",
       "  'support': 'get_prop set_default set_power toggle set_bright set_scene cron_add cron_get cron_del start_cf stop_cf set_ct_abx adjust_ct set_name set_adjust adjust_bright adjust_color set_rgb set_hsv set_music udp_sess_new udp_sess_keep_alive udp_chroma_sess_new',\n",
       "  'power': 'on',\n",
       "  'bright': '100',\n",
       "  'color_mode': '2',\n",
       "  'ct': '3750',\n",
       "  'rgb': '2544895',\n",
       "  'hue': '192',\n",
       "  'sat': '85',\n",
       "  'name': 'bedroom1'},\n",
       " '_music_mode': False,\n",
       " '_Bulb__socket': <socket.socket fd=804, family=AddressFamily.AF_INET, type=SocketKind.SOCK_STREAM, proto=0, laddr=('192.168.1.29', 63531), raddr=('192.168.1.230', 55443)>,\n",
       " '_notification_socket': None,\n",
       " '_is_listening': False}"
      ]
     },
     "execution_count": 31,
     "metadata": {},
     "output_type": "execute_result"
    }
   ],
   "source": [
    "bulbs[0].bulb.__dict__"
   ]
  },
  {
   "cell_type": "code",
   "execution_count": null,
   "metadata": {},
   "outputs": [],
   "source": []
  }
 ],
 "metadata": {
  "kernelspec": {
   "display_name": "Python 3",
   "language": "python",
   "name": "python3"
  },
  "language_info": {
   "codemirror_mode": {
    "name": "ipython",
    "version": 3
   },
   "file_extension": ".py",
   "mimetype": "text/x-python",
   "name": "python",
   "nbconvert_exporter": "python",
   "pygments_lexer": "ipython3",
   "version": "3.8.5"
  }
 },
 "nbformat": 4,
 "nbformat_minor": 4
}
